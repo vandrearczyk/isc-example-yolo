{
 "cells": [
  {
   "cell_type": "code",
   "execution_count": null,
   "metadata": {},
   "outputs": [],
   "source": [
    "import cv2\n",
    "import numpy as np\n",
    "from matplotlib import pyplot as plt"
   ]
  },
  {
   "cell_type": "code",
   "execution_count": null,
   "metadata": {},
   "outputs": [],
   "source": [
    "!wget -O models/yolov3.weights https://pjreddie.com/media/files/yolov3.weights"
   ]
  },
  {
   "cell_type": "code",
   "execution_count": null,
   "metadata": {},
   "outputs": [],
   "source": [
    "# Load YOLO\n",
    "net = cv2.dnn.readNet(\"../../models/yolov3.weights\", \"../../cfg/yolov3.cfg\")\n",
    "classes = []\n",
    "with open(\"../../data/labels/coco.names\", \"r\") as f:\n",
    "    classes = [line.strip() for line in f.readlines()]\n",
    "print('Number of classes:', len(classes))\n",
    "\n",
    "layer_names = net.getLayerNames()\n",
    "output_layers_indices = [i - 1 for i in net.getUnconnectedOutLayers()]\n",
    "output_layers = [layer_names[i] for i in output_layers_indices]\n",
    "\n",
    "print(\"Output layers:\", output_layers)"
   ]
  }
 ],
 "metadata": {
  "language_info": {
   "name": "python"
  }
 },
 "nbformat": 4,
 "nbformat_minor": 2
}
