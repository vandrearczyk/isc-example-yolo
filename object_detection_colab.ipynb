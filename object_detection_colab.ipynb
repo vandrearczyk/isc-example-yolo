{
  "nbformat": 4,
  "nbformat_minor": 0,
  "metadata": {
    "colab": {
      "provenance": [],
      "authorship_tag": "ABX9TyM6omSzudRaUdNJPRIY1yU7",
      "include_colab_link": true
    },
    "kernelspec": {
      "name": "python3",
      "display_name": "Python 3"
    },
    "language_info": {
      "name": "python"
    }
  },
  "cells": [
    {
      "cell_type": "markdown",
      "metadata": {
        "id": "view-in-github",
        "colab_type": "text"
      },
      "source": [
        "<a href=\"https://colab.research.google.com/github/vandrearczyk/isc-example-yolo/blob/main/object_detection_colab.ipynb\" target=\"_parent\"><img src=\"https://colab.research.google.com/assets/colab-badge.svg\" alt=\"Open In Colab\"/></a>"
      ]
    },
    {
      "cell_type": "code",
      "source": [
        "!git clone https://github.com/vandrearczyk/isc-example-yolo.git"
      ],
      "metadata": {
        "id": "r1aXMAT6KWju"
      },
      "execution_count": null,
      "outputs": []
    },
    {
      "cell_type": "code",
      "execution_count": null,
      "metadata": {
        "id": "jsDPM1zIKIiU"
      },
      "outputs": [],
      "source": [
        "import cv2\n",
        "import numpy as np\n",
        "from matplotlib import pyplot as plt\n",
        "from os.path import join, isfile"
      ]
    },
    {
      "cell_type": "code",
      "source": [
        "rootpath = '/content/isc-example-yolo'"
      ],
      "metadata": {
        "id": "HgsegX45KQrx"
      },
      "execution_count": 1,
      "outputs": []
    },
    {
      "cell_type": "code",
      "source": [
        "from pathlib import Path\n",
        "Path(join(rootpath,\"models\")).mkdir(parents=True, exist_ok=True)"
      ],
      "metadata": {
        "id": "wlyCvF06KmYs"
      },
      "execution_count": null,
      "outputs": []
    },
    {
      "cell_type": "code",
      "source": [],
      "metadata": {
        "id": "45o8CNV-K7_S"
      },
      "execution_count": null,
      "outputs": []
    }
  ]
}